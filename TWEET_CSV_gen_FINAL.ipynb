{
  "nbformat": 4,
  "nbformat_minor": 0,
  "metadata": {
    "kernelspec": {
      "display_name": "Python 3",
      "language": "python",
      "name": "python3"
    },
    "language_info": {
      "codemirror_mode": {
        "name": "ipython",
        "version": 3
      },
      "file_extension": ".py",
      "mimetype": "text/x-python",
      "name": "python",
      "nbconvert_exporter": "python",
      "pygments_lexer": "ipython3",
      "version": "3.8.5"
    },
    "colab": {
      "name": "Copia di TWEET_CSV_gen_FINAL.ipynb",
      "provenance": [],
      "collapsed_sections": [],
      "include_colab_link": true
    }
  },
  "cells": [
    {
      "cell_type": "markdown",
      "metadata": {
        "id": "view-in-github",
        "colab_type": "text"
      },
      "source": [
        "<a href=\"https://colab.research.google.com/github/marzione00/Association_analysis_and_tweets/blob/main/TWEET_CSV_gen_FINAL.ipynb\" target=\"_parent\"><img src=\"https://colab.research.google.com/assets/colab-badge.svg\" alt=\"Open In Colab\"/></a>"
      ]
    },
    {
      "cell_type": "markdown",
      "metadata": {
        "id": "bZ7gz8Octo1S"
      },
      "source": [
        "#Tweet retrieval \n",
        "Solution adapted from DSE Lab: SKY Social media observatory"
      ]
    },
    {
      "cell_type": "markdown",
      "metadata": {
        "id": "aXYZj9zCCkZa"
      },
      "source": [
        "import libraries"
      ]
    },
    {
      "cell_type": "code",
      "metadata": {
        "id": "UTPCxMANo6ES"
      },
      "source": [
        "import tweepy\n",
        "import json\n",
        "import time\n",
        "import pandas as pd\n",
        "import numpy as np\n",
        "import datetime\n",
        "import os\n",
        "import re\n",
        "import itertools\n",
        "import requests\n",
        "from google.colab import drive\n"
      ],
      "execution_count": null,
      "outputs": []
    },
    {
      "cell_type": "markdown",
      "metadata": {
        "id": "mYoyQo0nCoC8"
      },
      "source": [
        "Authentication for Twitter APIs"
      ]
    },
    {
      "cell_type": "code",
      "metadata": {
        "id": "Qhoxrmd9o6ET"
      },
      "source": [
        "config = json.loads(requests.get(\"https://www.dropbox.com/s/7kc5lbfxkobcmdw/lab.json?dl=1\").text)\n",
        "\n",
        "consumer_key        = config['consumer_key'] \n",
        "consumer_secret     = config['consumer_secret']\n",
        "access_token_key    = config['access_token_key'] \n",
        "access_token_secret = config['access_token_secret'] \n",
        "auth = tweepy.OAuthHandler(consumer_key, consumer_secret)\n",
        "auth.set_access_token(access_token_key, access_token_secret)\n",
        "api  = tweepy.API(auth)\n",
        "\n",
        "if api.me():\n",
        "    print(\"Authenticated\\n\")\n",
        "else:\n",
        "    print(\"Error in Authentication\\n\")"
      ],
      "execution_count": null,
      "outputs": []
    },
    {
      "cell_type": "markdown",
      "metadata": {
        "id": "7-tFt7FXC4Y4"
      },
      "source": [
        "Creation of the path for the dataset"
      ]
    },
    {
      "cell_type": "code",
      "metadata": {
        "colab": {
          "base_uri": "https://localhost:8080/"
        },
        "id": "XlIbEGJVo6EX",
        "outputId": "92d0be25-4c22-41dc-94ca-889368a830e1"
      },
      "source": [
        "drive.mount(\"/content/drive\",force_remount=True)\n",
        "\n",
        "base_path = \"/content/drive/MyDrive/tweet_vaccines/\"\n",
        "path_out = \"/content/drive/MyDrive/tweet_vaccines/\" + str(datetime.date.today()) + '.csv'"
      ],
      "execution_count": null,
      "outputs": [
        {
          "output_type": "stream",
          "name": "stdout",
          "text": [
            "Mounted at /content/drive\n"
          ]
        }
      ]
    },
    {
      "cell_type": "markdown",
      "metadata": {
        "id": "jnSMBztTC9KD"
      },
      "source": [
        "Dataset retrieval "
      ]
    },
    {
      "cell_type": "code",
      "metadata": {
        "colab": {
          "base_uri": "https://localhost:8080/",
          "height": 649
        },
        "id": "OLdU-l2-o6EX",
        "outputId": "f28f6ea4-f6f6-4bd0-99a8-c393359d0ba8"
      },
      "source": [
        "hashtag_list_en = [\"#test\"] #insert the chosen hashtag\n",
        "hashtag_list_it = [\"#test\"]\n",
        "\n",
        "no_retweet   = \" -filter:retweets\"\n",
        "language     = [\"en\"] #select the languege(s)\n",
        "today        = datetime.date.today().strftime(\"%Y-%m-%d\")\n",
        "period       = \" until:\" + today\n",
        "\n",
        "\n",
        "flag_header = True\n",
        "\n",
        "if flag_header == True:\n",
        "    with open(path_out, \"w\") as o:\n",
        "        o.write(\"hashtag|timestamp|tweet_text|user_name|language\\n\")\n",
        "\n",
        "    flag_header = False\n",
        "\n",
        "counter = 0\n",
        "times   = 0\n",
        "\n",
        "while times <= 100: \n",
        "\n",
        "    for lang in language:\n",
        "\n",
        "        if lang == \"en\":\n",
        "            hashtag_list = hashtag_list_en\n",
        "\n",
        "        else:\n",
        "            hashtag_list = hashtag_list_it\n",
        "\n",
        "        for hash in hashtag_list:\n",
        "\n",
        "            query = hash + no_retweet + period + \" lang:\" + lang\n",
        "\n",
        "            try:\n",
        "\n",
        "                for page in tweepy.Cursor(api.search, q=query, tweet_mode = \"extended\").pages():\n",
        "                    for status in page:\n",
        "\n",
        "                        try:\n",
        "                            full_text = status.full_text.replace(\"\\n\", \" \").replace(\"|\", \"\").encode(\"utf-8\").decode(\"ascii\", \"ignore\").strip().replace(\"  \", \" \")\n",
        "                            url_to_rm = re.search(\"(?P<url>https?://[^\\s].+)\", full_text).group(\"url\") # searching for https in tweet\n",
        "\n",
        "                            text      = full_text.replace(url_to_rm, \"\").strip().replace(\"  \", \" \") # removes https in tweet\n",
        "                            time_data = str(status.created_at)\n",
        "                            user_name = status.user.screen_name\n",
        "                            # print str(counter) + \" : \" + text\n",
        "                            counter += 1\n",
        "                            print(str(counter), \":\", hash)\n",
        "                        except:\n",
        "\n",
        "                            text      = status.full_text.replace(\"\\n\", \" \").replace(\"|\", \"\").encode(\"utf-8\").decode(\"ascii\", \"ignore\").strip().replace(\"  \", \" \")\n",
        "                            time_data = str(status.created_at)\n",
        "                            user_name = status.user.screen_name\n",
        "                            # print str(counter) + \" : \" + text\n",
        "                            counter += 1\n",
        "                            print(str(counter), \":\", hash)\n",
        "\n",
        "                        raw_line = str(hash + \"|\" + time_data + \"|\" + text + \"|\" + user_name + \"|\" + lang)\n",
        "\n",
        "                        with open(path_out, \"a\") as o:\n",
        "                            o.write(raw_line + '\\n')\n",
        "\n",
        "                        # print(str(counter))\n",
        "                        time.sleep(0.1)\n",
        "\n",
        "            except Exception as e:\n",
        "                print(e)\n",
        "                print(\"\\n\\nSuperato il limite, aspetto 15 minuti\")\n",
        "\n",
        "                time.sleep(15 * 60 + 1)\n",
        "\n",
        "    times += 1\n",
        "\n",
        "\n",
        "\n",
        "path_out_deduplicated = path_out.replace(\".csv\", \"_dedupl.csv\")\n",
        "\n",
        "df_tweets = pd.read_csv(path_out, sep = \"|\", header= 0, error_bad_lines=False)\n",
        "df_tweets_no_dupl = df_tweets.drop_duplicates()\n",
        "df_tweets_no_dupl.to_csv(path_out_deduplicated, index = False)"
      ],
      "execution_count": null,
      "outputs": [
        {
          "output_type": "stream",
          "name": "stdout",
          "text": [
            "1 : #test\n",
            "2 : #test\n",
            "3 : #test\n",
            "4 : #test\n",
            "5 : #test\n",
            "6 : #test\n",
            "7 : #test\n",
            "8 : #test\n",
            "9 : #test\n",
            "10 : #test\n",
            "11 : #test\n",
            "12 : #test\n",
            "13 : #test\n",
            "14 : #test\n",
            "15 : #test\n",
            "16 : #test\n",
            "17 : #test\n",
            "18 : #test\n",
            "19 : #test\n",
            "20 : #test\n",
            "21 : #test\n",
            "22 : #test\n",
            "23 : #test\n",
            "24 : #test\n",
            "25 : #test\n"
          ]
        },
        {
          "output_type": "error",
          "ename": "KeyboardInterrupt",
          "evalue": "ignored",
          "traceback": [
            "\u001b[0;31m---------------------------------------------------------------------------\u001b[0m",
            "\u001b[0;31mKeyboardInterrupt\u001b[0m                         Traceback (most recent call last)",
            "\u001b[0;32m<ipython-input-11-bdd7fec58c6e>\u001b[0m in \u001b[0;36m<module>\u001b[0;34m()\u001b[0m\n\u001b[1;32m     63\u001b[0m \u001b[0;34m\u001b[0m\u001b[0m\n\u001b[1;32m     64\u001b[0m                         \u001b[0;31m# print(str(counter))\u001b[0m\u001b[0;34m\u001b[0m\u001b[0;34m\u001b[0m\u001b[0;34m\u001b[0m\u001b[0m\n\u001b[0;32m---> 65\u001b[0;31m                         \u001b[0mtime\u001b[0m\u001b[0;34m.\u001b[0m\u001b[0msleep\u001b[0m\u001b[0;34m(\u001b[0m\u001b[0;36m0.1\u001b[0m\u001b[0;34m)\u001b[0m\u001b[0;34m\u001b[0m\u001b[0;34m\u001b[0m\u001b[0m\n\u001b[0m\u001b[1;32m     66\u001b[0m \u001b[0;34m\u001b[0m\u001b[0m\n\u001b[1;32m     67\u001b[0m             \u001b[0;32mexcept\u001b[0m \u001b[0mException\u001b[0m \u001b[0;32mas\u001b[0m \u001b[0me\u001b[0m\u001b[0;34m:\u001b[0m\u001b[0;34m\u001b[0m\u001b[0;34m\u001b[0m\u001b[0m\n",
            "\u001b[0;31mKeyboardInterrupt\u001b[0m: "
          ]
        }
      ]
    }
  ]
}